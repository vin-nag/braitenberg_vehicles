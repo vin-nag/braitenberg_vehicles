{
 "cells": [
  {
   "cell_type": "markdown",
   "metadata": {
    "collapsed": true,
    "pycharm": {
     "is_executing": false
    }
   },
   "source": [
    "<center>\n",
    "    <h1> Artificial Life: Embodied Intelligence (ECE750) </h1>\n",
    "    <h2> Worksheet 2 - Vineel Nagisetty (#20270395) </h2>\n",
    "</center>"
   ]
  },
  {
   "cell_type": "markdown",
   "metadata": {},
   "source": [
    "This tutorial Doug Blank's \"Jyro\" module available for Jupyter for simulation on Braitenberg vehicles. Please note that the simulation as well as code were taken from [here](https://github.com/Calysto/jyro/blob/master/docs/source/RobotFindLight.ipynb/) although it was modified by me to suit this application and for improved readability. Please note that you need jyro module installed to run."
   ]
  },
  {
   "cell_type": "markdown",
   "metadata": {},
   "source": [
    "### Housekeeping\n",
    "\n",
    "Basic imports and define constants"
   ]
  },
  {
   "cell_type": "code",
   "execution_count": null,
   "metadata": {
    "pycharm": {
     "is_executing": false
    }
   },
   "outputs": [],
   "source": [
    "# Imports\n",
    "from jyro.simulator import *\n",
    "\n",
    "# Define constants\n",
    "ONE = False\n",
    "EXPLORER = False\n",
    "INHIBITION_ONE = False\n",
    "INHIBITION_TWO = False\n",
    "CROSS_CONNECTED = False"
   ]
  },
  {
   "cell_type": "markdown",
   "metadata": {},
   "source": [
    "### Define Environment and Robot\n",
    "\n",
    "The environment is a simple square box with a light at the center. The robot is a 'Pioneer' jyro robot with light sensonrs as well as a camera which we use to view the simulation."
   ]
  },
  {
   "cell_type": "code",
   "execution_count": null,
   "metadata": {
    "pycharm": {
     "is_executing": false
    }
   },
   "outputs": [],
   "source": [
    "def make_environment(physics):\n",
    "    \"\"\"This function makes the background environment\"\"\"\n",
    "    \n",
    "    # create canvas object\n",
    "    physics.addBox(0, 0, 10, 10, fill=\"backgroundgreen\", wallcolor=\"black\")\n",
    "    \n",
    "    # create light source\n",
    "    physics.addLight(5, 5, 1.0) "
   ]
  },
  {
   "cell_type": "code",
   "execution_count": null,
   "metadata": {
    "pycharm": {
     "is_executing": false
    }
   },
   "outputs": [],
   "source": [
    "def make_robot(pose, max_range=5):\n",
    "    \"\"\"This function creates the robot\"\"\"\n",
    "    \n",
    "    # create a Pioneer robot\n",
    "    robot = Pioneer(\"Pioneer\", pose[0], pose[1], pose[2])\n",
    "    \n",
    "    # define and add light sensors\n",
    "    light_sensors = PioneerFrontLightSensors(max_range) \n",
    "    robot.addDevice(light_sensors)\n",
    "    robot.addDevice(Camera())\n",
    "    return robot"
   ]
  },
  {
   "cell_type": "markdown",
   "metadata": {},
   "source": [
    "### Define Controllers for Braitenberg Vehicles\n",
    "\n",
    "There is one Braitenberg vehicle controller, with separate functions for one and two sensorimotors."
   ]
  },
  {
   "cell_type": "code",
   "execution_count": null,
   "metadata": {
    "pycharm": {
     "is_executing": false
    }
   },
   "outputs": [],
   "source": [
    "def braitenberg_controller(robot):\n",
    "    \"\"\"This function is the processor for Braitenberg vehicles\"\"\"\n",
    "    \n",
    "    # get light data\n",
    "    light_data = robot[\"light\"].getData()\n",
    "    \n",
    "    if ONE:\n",
    "        # determine movement for Braitenberg one sensor vehicle\n",
    "        translation, rotation = determine_braitenberg_one_move(light_data)\n",
    "    else:\n",
    "        # determine movement for Braitenberg one sensor vehicle\n",
    "        translation, rotation = determine_braitenberg_two_move(light_data)\n",
    "    \n",
    "    robot.move(translation, rotation)   "
   ]
  },
  {
   "cell_type": "code",
   "execution_count": null,
   "metadata": {
    "pycharm": {
     "is_executing": false
    }
   },
   "outputs": [],
   "source": [
    "def determine_braitenberg_one_move(light_data):\n",
    "    \"\"\"Returns tuple of (translation, rotation) movement for Braitenberg vehicle with one sensor and motor\"\"\"\n",
    "\n",
    "    # determine speed\n",
    "    max_light = max(light_data)\n",
    "    \n",
    "    # keep speed in range [0.1, 0.9]\n",
    "    speed = 0.9 if max_light > 0.9 else max(0.1, max_light)\n",
    "    \n",
    "    if INHIBITION_ONE:\n",
    "        speed = 1 - speed\n",
    "    \n",
    "    # determine angle\n",
    "    left, right = light_data[0], light_data[1]\n",
    "    difference = abs(left-right)\n",
    "    rotation = 0\n",
    "\n",
    "    # turn left or right depending on the direction of light source\n",
    "    if difference > 0:\n",
    "        rotation = 0.25 if left > right else -0.25\n",
    "    \n",
    "    return (speed, rotation)"
   ]
  },
  {
   "cell_type": "code",
   "execution_count": null,
   "metadata": {
    "pycharm": {
     "is_executing": false
    }
   },
   "outputs": [],
   "source": [
    "def determine_braitenberg_two_move(light_data):\n",
    "    \"\"\"Returns tuple of (speed, rotation) movement for Braitenberg vehicle with two sensors and motors\"\"\"\n",
    "\n",
    "    # determine speed\n",
    "    max_light = min(light_data)\n",
    "    \n",
    "    # keep speed in range [0.1, 0.9]\n",
    "    speed = 0.9 if max_light > 0.9 else max(0.1, max_light)\n",
    "    \n",
    "    # if sensors are inhibitory\n",
    "    if INHIBITION_TWO:\n",
    "        speed = 1 - speed\n",
    "\n",
    "    # determine angle\n",
    "    left, right = light_data[0], light_data[1]\n",
    "    difference = abs(left-right)\n",
    "    rotation = 0\n",
    "\n",
    "    # turn left or right depending on the direction of light source\n",
    "    if difference > 0:\n",
    "        rotation = -15*difference if left > right else 15*difference\n",
    "\n",
    "    # scale rotation speed down for explorer\n",
    "    if EXPLORER:\n",
    "        rotation /= 15\n",
    "        \n",
    "    # if sensors are connected to the opposite motors\n",
    "    if CROSS_CONNECTED:\n",
    "        rotation = -1 * rotation\n",
    "        \n",
    "    if INHIBITION_TWO:\n",
    "        rotation = -1 * rotation\n",
    "        \n",
    "    return (speed, rotation)"
   ]
  },
  {
   "cell_type": "markdown",
   "metadata": {},
   "source": [
    "### Simulate Braitenberg Vehicles\n",
    "\n",
    "We now simulate six different Braitenberg vehicles, using jyro module. You can view the simulation on the left box and the robot's view on the right. Feel free to move the robot around using the verticle and horizontal sliders, updating the robot's heading using the slider under the box on the right. Click on play, pause and stop to run, pause and reset the simulation respectively. "
   ]
  },
  {
   "cell_type": "code",
   "execution_count": null,
   "metadata": {
    "pycharm": {
     "is_executing": false
    },
    "scrolled": false
   },
   "outputs": [],
   "source": [
    "# select braitenberg one controller\n",
    "ONE = True\n",
    "\n",
    "# create the robot\n",
    "robot = make_robot([3,2,0])\n",
    "\n",
    "# connect the control\n",
    "robot.brain = braitenberg_controller\n",
    "\n",
    "# set connection to positive\n",
    "INHIBITION_ONE = False\n",
    "\n",
    "# create the simulation\n",
    "simulator = VSimulator(robot, make_environment)\n",
    "\n",
    "\"\"\"The first simulation is of a vehicle with one sensor and motor, where the motor goes faster the closer it is to the light source and goes towards it always.\"\"\""
   ]
  },
  {
   "cell_type": "code",
   "execution_count": null,
   "metadata": {
    "pycharm": {
     "is_executing": false
    }
   },
   "outputs": [],
   "source": [
    "# select braitenberg one controller\n",
    "ONE = True\n",
    "\n",
    "# create the robot\n",
    "robot = make_robot([3,2,0])\n",
    "\n",
    "# connect the control\n",
    "robot.brain = braitenberg_controller\n",
    "\n",
    "# set sensor to be negative\n",
    "INHIBITION_ONE = True\n",
    "\n",
    "# create the simulation\n",
    "simulator = VSimulator(robot, make_environment)\n",
    "\n",
    "\"\"\"The second simulation is of a vehicle with one sensor and motor, where the motor goes slower the closer it is to the light source and goes towards it always.\"\"\""
   ]
  },
  {
   "cell_type": "code",
   "execution_count": null,
   "metadata": {
    "pycharm": {
     "is_executing": false
    },
    "scrolled": false
   },
   "outputs": [],
   "source": [
    "# select braitenberg two controller\n",
    "ONE = False\n",
    "\n",
    "# create the robot\n",
    "robot = make_robot([1,1,0])\n",
    "\n",
    "# connect the control\n",
    "robot.brain = braitenberg_controller\n",
    "\n",
    "# set sensors to negative and connections to the motors on the same side as the sensor\n",
    "INHIBITION_TWO = False\n",
    "CROSS_CONNECTED = False\n",
    "\n",
    "# create the simulation\n",
    "simulator = VSimulator(robot, make_environment)\n",
    "\n",
    "\"\"\"The third simulation is of a vehicle with two sensors and motors, where the motor goes faster the closer it is to the light source and the sensors are connected to the motors on the same side. An observer might call this agent as having 'fear' towards the light source.\"\"\""
   ]
  },
  {
   "cell_type": "code",
   "execution_count": null,
   "metadata": {
    "pycharm": {
     "is_executing": false
    }
   },
   "outputs": [],
   "source": [
    "# select braitenberg two controller\n",
    "ONE = False\n",
    "\n",
    "# create the robot\n",
    "robot = make_robot([1,1,0])\n",
    "\n",
    "# connect the control\n",
    "robot.brain = braitenberg_controller\n",
    "\n",
    "# set sensors to positive and connect to motors on the opposite side\n",
    "INHIBITION_TWO = False\n",
    "CROSS_CONNECTED = True\n",
    "\n",
    "# create the simulation\n",
    "simulator = VSimulator(robot, make_environment)\n",
    "\n",
    "\"\"\"The fourth simulation is of a vehicle with two sensors and motors, where the motor goes faster the closer it is to the light source and the sensors are connected to the motors on the opposite side. An observer might call this agent as being 'aggressive' towards the light source.\"\"\""
   ]
  },
  {
   "cell_type": "code",
   "execution_count": null,
   "metadata": {
    "pycharm": {
     "is_executing": false
    }
   },
   "outputs": [],
   "source": [
    "# select braitenberg two controller\n",
    "ONE = False\n",
    "\n",
    "# create the robot\n",
    "robot = make_robot([1,1,0])\n",
    "\n",
    "# connect the control\n",
    "robot.brain = braitenberg_controller\n",
    "\n",
    "# set the appropriate controls\n",
    "INHIBITION_TWO = True\n",
    "CROSS_CONNECTED = False\n",
    "\n",
    "# create the simulation\n",
    "simulator = VSimulator(robot, make_environment)\n",
    "\n",
    "\"\"\"The fifth simulation is of a vehicle with two sensors and motors, where the motor goes slower the closer it is to the light source and the sensors are connected to the motors on the same side. An observer might call this as agent as having 'love' towards the light source.\"\"\""
   ]
  },
  {
   "cell_type": "code",
   "execution_count": null,
   "metadata": {
    "pycharm": {
     "is_executing": false
    }
   },
   "outputs": [],
   "source": [
    "# select braitenberg two controller\n",
    "ONE = False\n",
    "EXPLORER = True\n",
    "\n",
    "# create the robot\n",
    "robot = make_robot([1,1,0])\n",
    "\n",
    "# connect the control\n",
    "robot.brain = braitenberg_controller\n",
    "\n",
    "# set the appropriate controls\n",
    "INHIBITION_TWO = True\n",
    "CROSS_CONNECTED = True\n",
    "\n",
    "# create the simulation\n",
    "simulator = VSimulator(robot, make_environment)\n",
    "\n",
    "\"\"\"The final simulation is of a vehicle with two sensors and motors, where the motor goes slower the closer it is to the light source and the sensors are connected to the motors on the opposite side. An observer might call this agent an 'Explorer'.\"\"\""
   ]
  },
  {
   "cell_type": "code",
   "execution_count": null,
   "metadata": {},
   "outputs": [],
   "source": []
  }
 ],
 "metadata": {
  "kernelspec": {
   "display_name": "PyCharm (git)",
   "language": "python",
   "name": "pycharm-73df3419"
  },
  "language_info": {
   "codemirror_mode": {
    "name": "ipython",
    "version": 3
   },
   "file_extension": ".py",
   "mimetype": "text/x-python",
   "name": "python",
   "nbconvert_exporter": "python",
   "pygments_lexer": "ipython3",
   "version": "3.6.9"
  }
 },
 "nbformat": 4,
 "nbformat_minor": 4
}
